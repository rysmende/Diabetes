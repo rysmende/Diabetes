{
 "cells": [
  {
   "cell_type": "markdown",
   "metadata": {},
   "source": [
    "# **Diabetes Prediction**\n",
    "\n",
    "The current dataset contains data of different people. Some of them were diagnosed"
   ]
  },
  {
   "cell_type": "markdown",
   "metadata": {},
   "source": [
    "Importing necessary libraries"
   ]
  },
  {
   "cell_type": "code",
   "execution_count": 1,
   "metadata": {
    "_cell_guid": "b1076dfc-b9ad-4769-8c92-a6c4dae69d19",
    "_uuid": "8f2839f25d086af736a60e9eeb907d3b93b6e0e5",
    "execution": {
     "iopub.execute_input": "2021-06-10T12:09:07.294100Z",
     "iopub.status.busy": "2021-06-10T12:09:07.293297Z",
     "iopub.status.idle": "2021-06-10T12:09:07.300583Z",
     "shell.execute_reply": "2021-06-10T12:09:07.299579Z",
     "shell.execute_reply.started": "2021-06-10T12:09:07.294053Z"
    }
   },
   "outputs": [],
   "source": [
    "import numpy as np \n",
    "import pandas as pd \n",
    "import seaborn as sns\n",
    "import matplotlib.pyplot as plt\n",
    "import seaborn as sns\n",
    "import pickle\n",
    "\n",
    "from sklearn.model_selection import train_test_split\n",
    "from sklearn.neighbors import KNeighborsClassifier\n",
    "from sklearn.linear_model import LinearRegression, LogisticRegression"
   ]
  },
  {
   "cell_type": "markdown",
   "metadata": {},
   "source": [
    "Reading csv"
   ]
  },
  {
   "cell_type": "code",
   "execution_count": 2,
   "metadata": {
    "execution": {
     "iopub.execute_input": "2021-06-10T11:54:53.594422Z",
     "iopub.status.busy": "2021-06-10T11:54:53.594060Z",
     "iopub.status.idle": "2021-06-10T11:54:53.640316Z",
     "shell.execute_reply": "2021-06-10T11:54:53.639418Z",
     "shell.execute_reply.started": "2021-06-10T11:54:53.594384Z"
    }
   },
   "outputs": [
    {
     "ename": "FileNotFoundError",
     "evalue": "[Errno 2] File /kaggle/input/diabetes-dataset-2019/diabetes_dataset__2019.csv does not exist: '/kaggle/input/diabetes-dataset-2019/diabetes_dataset__2019.csv'",
     "output_type": "error",
     "traceback": [
      "\u001b[1;31m---------------------------------------------------------------------------\u001b[0m",
      "\u001b[1;31mFileNotFoundError\u001b[0m                         Traceback (most recent call last)",
      "\u001b[1;32m<ipython-input-2-d39964c9e750>\u001b[0m in \u001b[0;36m<module>\u001b[1;34m\u001b[0m\n\u001b[1;32m----> 1\u001b[1;33m \u001b[0mdf\u001b[0m \u001b[1;33m=\u001b[0m \u001b[0mpd\u001b[0m\u001b[1;33m.\u001b[0m\u001b[0mread_csv\u001b[0m\u001b[1;33m(\u001b[0m\u001b[1;34m'/kaggle/input/diabetes-dataset-2019/diabetes_dataset__2019.csv'\u001b[0m\u001b[1;33m)\u001b[0m\u001b[1;33m\u001b[0m\u001b[1;33m\u001b[0m\u001b[0m\n\u001b[0m\u001b[0;32m      2\u001b[0m \u001b[0mdf\u001b[0m\u001b[1;33m.\u001b[0m\u001b[0minfo\u001b[0m\u001b[1;33m(\u001b[0m\u001b[1;33m)\u001b[0m\u001b[1;33m\u001b[0m\u001b[1;33m\u001b[0m\u001b[0m\n",
      "\u001b[1;32mD:\\Python\\Anaconda\\lib\\site-packages\\pandas\\io\\parsers.py\u001b[0m in \u001b[0;36mparser_f\u001b[1;34m(filepath_or_buffer, sep, delimiter, header, names, index_col, usecols, squeeze, prefix, mangle_dupe_cols, dtype, engine, converters, true_values, false_values, skipinitialspace, skiprows, skipfooter, nrows, na_values, keep_default_na, na_filter, verbose, skip_blank_lines, parse_dates, infer_datetime_format, keep_date_col, date_parser, dayfirst, cache_dates, iterator, chunksize, compression, thousands, decimal, lineterminator, quotechar, quoting, doublequote, escapechar, comment, encoding, dialect, error_bad_lines, warn_bad_lines, delim_whitespace, low_memory, memory_map, float_precision)\u001b[0m\n\u001b[0;32m    674\u001b[0m         )\n\u001b[0;32m    675\u001b[0m \u001b[1;33m\u001b[0m\u001b[0m\n\u001b[1;32m--> 676\u001b[1;33m         \u001b[1;32mreturn\u001b[0m \u001b[0m_read\u001b[0m\u001b[1;33m(\u001b[0m\u001b[0mfilepath_or_buffer\u001b[0m\u001b[1;33m,\u001b[0m \u001b[0mkwds\u001b[0m\u001b[1;33m)\u001b[0m\u001b[1;33m\u001b[0m\u001b[1;33m\u001b[0m\u001b[0m\n\u001b[0m\u001b[0;32m    677\u001b[0m \u001b[1;33m\u001b[0m\u001b[0m\n\u001b[0;32m    678\u001b[0m     \u001b[0mparser_f\u001b[0m\u001b[1;33m.\u001b[0m\u001b[0m__name__\u001b[0m \u001b[1;33m=\u001b[0m \u001b[0mname\u001b[0m\u001b[1;33m\u001b[0m\u001b[1;33m\u001b[0m\u001b[0m\n",
      "\u001b[1;32mD:\\Python\\Anaconda\\lib\\site-packages\\pandas\\io\\parsers.py\u001b[0m in \u001b[0;36m_read\u001b[1;34m(filepath_or_buffer, kwds)\u001b[0m\n\u001b[0;32m    446\u001b[0m \u001b[1;33m\u001b[0m\u001b[0m\n\u001b[0;32m    447\u001b[0m     \u001b[1;31m# Create the parser.\u001b[0m\u001b[1;33m\u001b[0m\u001b[1;33m\u001b[0m\u001b[1;33m\u001b[0m\u001b[0m\n\u001b[1;32m--> 448\u001b[1;33m     \u001b[0mparser\u001b[0m \u001b[1;33m=\u001b[0m \u001b[0mTextFileReader\u001b[0m\u001b[1;33m(\u001b[0m\u001b[0mfp_or_buf\u001b[0m\u001b[1;33m,\u001b[0m \u001b[1;33m**\u001b[0m\u001b[0mkwds\u001b[0m\u001b[1;33m)\u001b[0m\u001b[1;33m\u001b[0m\u001b[1;33m\u001b[0m\u001b[0m\n\u001b[0m\u001b[0;32m    449\u001b[0m \u001b[1;33m\u001b[0m\u001b[0m\n\u001b[0;32m    450\u001b[0m     \u001b[1;32mif\u001b[0m \u001b[0mchunksize\u001b[0m \u001b[1;32mor\u001b[0m \u001b[0miterator\u001b[0m\u001b[1;33m:\u001b[0m\u001b[1;33m\u001b[0m\u001b[1;33m\u001b[0m\u001b[0m\n",
      "\u001b[1;32mD:\\Python\\Anaconda\\lib\\site-packages\\pandas\\io\\parsers.py\u001b[0m in \u001b[0;36m__init__\u001b[1;34m(self, f, engine, **kwds)\u001b[0m\n\u001b[0;32m    878\u001b[0m             \u001b[0mself\u001b[0m\u001b[1;33m.\u001b[0m\u001b[0moptions\u001b[0m\u001b[1;33m[\u001b[0m\u001b[1;34m\"has_index_names\"\u001b[0m\u001b[1;33m]\u001b[0m \u001b[1;33m=\u001b[0m \u001b[0mkwds\u001b[0m\u001b[1;33m[\u001b[0m\u001b[1;34m\"has_index_names\"\u001b[0m\u001b[1;33m]\u001b[0m\u001b[1;33m\u001b[0m\u001b[1;33m\u001b[0m\u001b[0m\n\u001b[0;32m    879\u001b[0m \u001b[1;33m\u001b[0m\u001b[0m\n\u001b[1;32m--> 880\u001b[1;33m         \u001b[0mself\u001b[0m\u001b[1;33m.\u001b[0m\u001b[0m_make_engine\u001b[0m\u001b[1;33m(\u001b[0m\u001b[0mself\u001b[0m\u001b[1;33m.\u001b[0m\u001b[0mengine\u001b[0m\u001b[1;33m)\u001b[0m\u001b[1;33m\u001b[0m\u001b[1;33m\u001b[0m\u001b[0m\n\u001b[0m\u001b[0;32m    881\u001b[0m \u001b[1;33m\u001b[0m\u001b[0m\n\u001b[0;32m    882\u001b[0m     \u001b[1;32mdef\u001b[0m \u001b[0mclose\u001b[0m\u001b[1;33m(\u001b[0m\u001b[0mself\u001b[0m\u001b[1;33m)\u001b[0m\u001b[1;33m:\u001b[0m\u001b[1;33m\u001b[0m\u001b[1;33m\u001b[0m\u001b[0m\n",
      "\u001b[1;32mD:\\Python\\Anaconda\\lib\\site-packages\\pandas\\io\\parsers.py\u001b[0m in \u001b[0;36m_make_engine\u001b[1;34m(self, engine)\u001b[0m\n\u001b[0;32m   1112\u001b[0m     \u001b[1;32mdef\u001b[0m \u001b[0m_make_engine\u001b[0m\u001b[1;33m(\u001b[0m\u001b[0mself\u001b[0m\u001b[1;33m,\u001b[0m \u001b[0mengine\u001b[0m\u001b[1;33m=\u001b[0m\u001b[1;34m\"c\"\u001b[0m\u001b[1;33m)\u001b[0m\u001b[1;33m:\u001b[0m\u001b[1;33m\u001b[0m\u001b[1;33m\u001b[0m\u001b[0m\n\u001b[0;32m   1113\u001b[0m         \u001b[1;32mif\u001b[0m \u001b[0mengine\u001b[0m \u001b[1;33m==\u001b[0m \u001b[1;34m\"c\"\u001b[0m\u001b[1;33m:\u001b[0m\u001b[1;33m\u001b[0m\u001b[1;33m\u001b[0m\u001b[0m\n\u001b[1;32m-> 1114\u001b[1;33m             \u001b[0mself\u001b[0m\u001b[1;33m.\u001b[0m\u001b[0m_engine\u001b[0m \u001b[1;33m=\u001b[0m \u001b[0mCParserWrapper\u001b[0m\u001b[1;33m(\u001b[0m\u001b[0mself\u001b[0m\u001b[1;33m.\u001b[0m\u001b[0mf\u001b[0m\u001b[1;33m,\u001b[0m \u001b[1;33m**\u001b[0m\u001b[0mself\u001b[0m\u001b[1;33m.\u001b[0m\u001b[0moptions\u001b[0m\u001b[1;33m)\u001b[0m\u001b[1;33m\u001b[0m\u001b[1;33m\u001b[0m\u001b[0m\n\u001b[0m\u001b[0;32m   1115\u001b[0m         \u001b[1;32melse\u001b[0m\u001b[1;33m:\u001b[0m\u001b[1;33m\u001b[0m\u001b[1;33m\u001b[0m\u001b[0m\n\u001b[0;32m   1116\u001b[0m             \u001b[1;32mif\u001b[0m \u001b[0mengine\u001b[0m \u001b[1;33m==\u001b[0m \u001b[1;34m\"python\"\u001b[0m\u001b[1;33m:\u001b[0m\u001b[1;33m\u001b[0m\u001b[1;33m\u001b[0m\u001b[0m\n",
      "\u001b[1;32mD:\\Python\\Anaconda\\lib\\site-packages\\pandas\\io\\parsers.py\u001b[0m in \u001b[0;36m__init__\u001b[1;34m(self, src, **kwds)\u001b[0m\n\u001b[0;32m   1889\u001b[0m         \u001b[0mkwds\u001b[0m\u001b[1;33m[\u001b[0m\u001b[1;34m\"usecols\"\u001b[0m\u001b[1;33m]\u001b[0m \u001b[1;33m=\u001b[0m \u001b[0mself\u001b[0m\u001b[1;33m.\u001b[0m\u001b[0musecols\u001b[0m\u001b[1;33m\u001b[0m\u001b[1;33m\u001b[0m\u001b[0m\n\u001b[0;32m   1890\u001b[0m \u001b[1;33m\u001b[0m\u001b[0m\n\u001b[1;32m-> 1891\u001b[1;33m         \u001b[0mself\u001b[0m\u001b[1;33m.\u001b[0m\u001b[0m_reader\u001b[0m \u001b[1;33m=\u001b[0m \u001b[0mparsers\u001b[0m\u001b[1;33m.\u001b[0m\u001b[0mTextReader\u001b[0m\u001b[1;33m(\u001b[0m\u001b[0msrc\u001b[0m\u001b[1;33m,\u001b[0m \u001b[1;33m**\u001b[0m\u001b[0mkwds\u001b[0m\u001b[1;33m)\u001b[0m\u001b[1;33m\u001b[0m\u001b[1;33m\u001b[0m\u001b[0m\n\u001b[0m\u001b[0;32m   1892\u001b[0m         \u001b[0mself\u001b[0m\u001b[1;33m.\u001b[0m\u001b[0munnamed_cols\u001b[0m \u001b[1;33m=\u001b[0m \u001b[0mself\u001b[0m\u001b[1;33m.\u001b[0m\u001b[0m_reader\u001b[0m\u001b[1;33m.\u001b[0m\u001b[0munnamed_cols\u001b[0m\u001b[1;33m\u001b[0m\u001b[1;33m\u001b[0m\u001b[0m\n\u001b[0;32m   1893\u001b[0m \u001b[1;33m\u001b[0m\u001b[0m\n",
      "\u001b[1;32mpandas\\_libs\\parsers.pyx\u001b[0m in \u001b[0;36mpandas._libs.parsers.TextReader.__cinit__\u001b[1;34m()\u001b[0m\n",
      "\u001b[1;32mpandas\\_libs\\parsers.pyx\u001b[0m in \u001b[0;36mpandas._libs.parsers.TextReader._setup_parser_source\u001b[1;34m()\u001b[0m\n",
      "\u001b[1;31mFileNotFoundError\u001b[0m: [Errno 2] File /kaggle/input/diabetes-dataset-2019/diabetes_dataset__2019.csv does not exist: '/kaggle/input/diabetes-dataset-2019/diabetes_dataset__2019.csv'"
     ]
    }
   ],
   "source": [
    "df = pd.read_csv('/kaggle/input/diabetes-dataset-2019/diabetes_dataset__2019.csv')\n",
    "df.info()"
   ]
  },
  {
   "cell_type": "markdown",
   "metadata": {},
   "source": [
    "Working with columns\n",
    "\n",
    "Renaming columns\n",
    "\n",
    "Deleting rows where Diabetic (1) and BMI (4) are missing. Diabetic is too vital to be left missing and BMI is very important attribute because of that it cannot be replaced properly\n",
    "\n",
    "Deleting column highBP, because it is redundant, due to presense of BPlevel attribute. Some of values in highBP contradict BPlevel."
   ]
  },
  {
   "cell_type": "code",
   "execution_count": null,
   "metadata": {
    "execution": {
     "iopub.execute_input": "2021-06-10T11:54:53.643852Z",
     "iopub.status.busy": "2021-06-10T11:54:53.643565Z",
     "iopub.status.idle": "2021-06-10T11:54:53.698926Z",
     "shell.execute_reply": "2021-06-10T11:54:53.698138Z",
     "shell.execute_reply.started": "2021-06-10T11:54:53.643822Z"
    }
   },
   "outputs": [],
   "source": [
    "column_dict = {'Family_Diabetes':'FamilyDiabetes', 'Pregancies':'Pregnancies', 'UriationFreq':'UrinationFreq', 'Pdiabetes':'GestationalDiabetes'}\n",
    "df.rename(columns=column_dict, inplace=True)\n",
    "df.dropna(subset=['Diabetic', 'BMI'], inplace=True)\n",
    "df.drop('highBP', inplace=True, axis=1)\n",
    "df"
   ]
  },
  {
   "cell_type": "markdown",
   "metadata": {},
   "source": [
    "Working with GestationalDiabetes values.\n",
    "\n",
    "One value is missing in row of Male, that is why GestationalDiabetes value is put to no, because male cannot have it biologically.\n",
    "\n",
    "Also some values are signifie as 0, which has to be changed to no."
   ]
  },
  {
   "cell_type": "code",
   "execution_count": null,
   "metadata": {
    "execution": {
     "iopub.execute_input": "2021-06-10T11:54:53.700505Z",
     "iopub.status.busy": "2021-06-10T11:54:53.700261Z",
     "iopub.status.idle": "2021-06-10T11:54:53.707809Z",
     "shell.execute_reply": "2021-06-10T11:54:53.706773Z",
     "shell.execute_reply.started": "2021-06-10T11:54:53.700480Z"
    }
   },
   "outputs": [],
   "source": [
    "print('GestationalDiabetes - unique values before: ' + str(df['GestationalDiabetes'].unique()))\n",
    "df.loc[(df['Gender'] == 'Male') | (df['GestationalDiabetes'] == '0'), 'GestationalDiabetes'] = 'no'\n",
    "print('GestationalDiabetes - unique values after: ' + str(df['GestationalDiabetes'].unique()))"
   ]
  },
  {
   "cell_type": "markdown",
   "metadata": {},
   "source": []
  },
  {
   "cell_type": "code",
   "execution_count": null,
   "metadata": {
    "execution": {
     "iopub.execute_input": "2021-06-10T11:54:53.709162Z",
     "iopub.status.busy": "2021-06-10T11:54:53.708865Z",
     "iopub.status.idle": "2021-06-10T11:54:53.724500Z",
     "shell.execute_reply": "2021-06-10T11:54:53.723789Z",
     "shell.execute_reply.started": "2021-06-10T11:54:53.709134Z"
    }
   },
   "outputs": [],
   "source": [
    "print('Pregnancies - unique values: ' + str(df['Pregnancies'].unique()))\n",
    "df.loc[df['Gender'] == 'Male', 'Pregnancies'] = 0.0\n",
    "print('Pregnancies - unique values: ' + str(df['Pregnancies'].unique()))"
   ]
  },
  {
   "cell_type": "code",
   "execution_count": null,
   "metadata": {
    "execution": {
     "iopub.execute_input": "2021-06-10T11:54:53.725933Z",
     "iopub.status.busy": "2021-06-10T11:54:53.725503Z",
     "iopub.status.idle": "2021-06-10T11:54:53.738369Z",
     "shell.execute_reply": "2021-06-10T11:54:53.737401Z",
     "shell.execute_reply.started": "2021-06-10T11:54:53.725904Z"
    }
   },
   "outputs": [],
   "source": [
    "print('RegularMedicine - unique values before: ' + str(df['RegularMedicine'].unique()))\n",
    "df.loc[df['RegularMedicine'] == 'o', 'RegularMedicine'] = 'no'\n",
    "print('RegularMedicine - unique values after : ' + str(df['RegularMedicine'].unique()))"
   ]
  },
  {
   "cell_type": "code",
   "execution_count": null,
   "metadata": {
    "execution": {
     "iopub.execute_input": "2021-06-10T11:54:53.739913Z",
     "iopub.status.busy": "2021-06-10T11:54:53.739599Z",
     "iopub.status.idle": "2021-06-10T11:54:53.753094Z",
     "shell.execute_reply": "2021-06-10T11:54:53.752188Z",
     "shell.execute_reply.started": "2021-06-10T11:54:53.739885Z"
    }
   },
   "outputs": [],
   "source": [
    "print('BPLevel - unique values before: ' + str(df['BPLevel'].unique()))\n",
    "df.loc[df['BPLevel'] == 'High', 'BPLevel'] = 'high'\n",
    "df.loc[df['BPLevel'] == 'Low',  'BPLevel'] = 'low'\n",
    "df.loc[df['BPLevel'] == 'normal ', 'BPLevel'] = 'normal'\n",
    "print('BPLevel - unique values after : ' + str(df['BPLevel'].unique()))"
   ]
  },
  {
   "cell_type": "code",
   "execution_count": null,
   "metadata": {
    "execution": {
     "iopub.execute_input": "2021-06-10T11:54:53.756815Z",
     "iopub.status.busy": "2021-06-10T11:54:53.756408Z",
     "iopub.status.idle": "2021-06-10T11:54:53.767428Z",
     "shell.execute_reply": "2021-06-10T11:54:53.766469Z",
     "shell.execute_reply.started": "2021-06-10T11:54:53.756779Z"
    }
   },
   "outputs": [],
   "source": [
    "print('Diabetic - unique values before: ' + str(df['Diabetic'].unique()))\n",
    "df.loc[df['Diabetic'] == ' no', 'Diabetic'] = 'no'\n",
    "print('Diabetic - unique values after : ' + str(df['Diabetic'].unique()))"
   ]
  },
  {
   "cell_type": "code",
   "execution_count": null,
   "metadata": {
    "execution": {
     "iopub.execute_input": "2021-06-10T11:54:53.769547Z",
     "iopub.status.busy": "2021-06-10T11:54:53.769045Z",
     "iopub.status.idle": "2021-06-10T11:54:53.797336Z",
     "shell.execute_reply": "2021-06-10T11:54:53.796350Z",
     "shell.execute_reply.started": "2021-06-10T11:54:53.769485Z"
    }
   },
   "outputs": [],
   "source": [
    "def add_value(df, lst, column, new_column):\n",
    "    unique_list = df[column].unique()\n",
    "    print(column + ' : ' + str(unique_list))\n",
    "    print(' ' * len(column) + '   ' + str(lst))\n",
    "    d = dict(zip(unique_list, lst))\n",
    "    df[new_column] = [d[x] for x in df[column]]\n",
    "    return df, d\n",
    "\n",
    "\n",
    "df, ag_d = add_value(df, [2, 1, 0, 3], 'Age', 'Ag_v')\n",
    "df, ge_d = add_value(df, [0, 1], 'Gender', 'Ge_v')\n",
    "df, fd_d = add_value(df, [0, 1], 'FamilyDiabetes', 'FD_v')\n",
    "df, pa_d = add_value(df, [1.00, 0.33, 0.00, 0.66], 'PhysicallyActive', 'PA_v')\n",
    "df, sm_d = add_value(df, [0, 1], 'Smoking', 'Sm_v')\n",
    "df, al_d = add_value(df, [0, 1], 'Alcohol', 'Al_v')\n",
    "df, rm_d = add_value(df, [0, 1], 'RegularMedicine', 'RM_v')\n",
    "df, jf_d = add_value(df, [0.10, 0.35, 0.65, 0.90], 'JunkFood', 'JF_v')\n",
    "df, st_d = add_value(df, [0.33, 0.00, 0.66, 1.00], 'Stress', 'St_v')\n",
    "df, bp_d = add_value(df, [1.0, 0.5, 0.0], 'BPLevel', 'BP_v')\n",
    "df, gd_d = add_value(df, [0, 1], 'GestationalDiabetes', 'GD_v')\n",
    "df, uf_d = add_value(df, [0, 1], 'UrinationFreq', 'UF_v')\n",
    "df, di_d = add_value(df, [0, 1], 'Diabetic', 'Di_v')"
   ]
  },
  {
   "cell_type": "code",
   "execution_count": null,
   "metadata": {
    "execution": {
     "iopub.execute_input": "2021-06-10T11:54:53.799035Z",
     "iopub.status.busy": "2021-06-10T11:54:53.798651Z",
     "iopub.status.idle": "2021-06-10T11:54:53.825252Z",
     "shell.execute_reply": "2021-06-10T11:54:53.824182Z",
     "shell.execute_reply.started": "2021-06-10T11:54:53.798971Z"
    }
   },
   "outputs": [],
   "source": [
    "df.head()"
   ]
  },
  {
   "cell_type": "code",
   "execution_count": null,
   "metadata": {
    "execution": {
     "iopub.execute_input": "2021-06-10T11:54:53.826956Z",
     "iopub.status.busy": "2021-06-10T11:54:53.826591Z",
     "iopub.status.idle": "2021-06-10T11:54:54.058839Z",
     "shell.execute_reply": "2021-06-10T11:54:54.057999Z",
     "shell.execute_reply.started": "2021-06-10T11:54:53.826916Z"
    }
   },
   "outputs": [],
   "source": [
    "sns.catplot(x='Pregnancies', kind='count', data=df[df['Gender'] == 'Female'])\n",
    "missing_rows = pd.isna(df['Pregnancies'])\n",
    "df[missing_rows].iloc[:, 0:17]"
   ]
  },
  {
   "cell_type": "code",
   "execution_count": null,
   "metadata": {
    "execution": {
     "iopub.execute_input": "2021-06-10T11:54:54.060650Z",
     "iopub.status.busy": "2021-06-10T11:54:54.060276Z",
     "iopub.status.idle": "2021-06-10T11:54:54.088713Z",
     "shell.execute_reply": "2021-06-10T11:54:54.087866Z",
     "shell.execute_reply.started": "2021-06-10T11:54:54.060607Z"
    }
   },
   "outputs": [],
   "source": [
    "cols = ['Ag_v', 'Ge_v', 'FD_v', 'PA_v', 'BMI', 'Sm_v', 'Al_v', 'Sleep', 'SoundSleep', 'RM_v', 'JF_v', 'St_v', 'BP_v', 'Pregnancies', 'GD_v', 'UF_v', 'Di_v']\n",
    "df_v = df.loc[:, cols]\n",
    "df_v"
   ]
  },
  {
   "cell_type": "code",
   "execution_count": null,
   "metadata": {
    "execution": {
     "iopub.execute_input": "2021-06-10T11:54:54.090225Z",
     "iopub.status.busy": "2021-06-10T11:54:54.089955Z",
     "iopub.status.idle": "2021-06-10T11:54:54.117030Z",
     "shell.execute_reply": "2021-06-10T11:54:54.115847Z",
     "shell.execute_reply.started": "2021-06-10T11:54:54.090200Z"
    }
   },
   "outputs": [],
   "source": [
    "target_df = df_v[missing_rows & df_v['Ge_v'] == 1]\n",
    "train_test_df = df_v[~missing_rows & df_v['Ge_v'] == 1]\n",
    "train_test_df"
   ]
  },
  {
   "cell_type": "code",
   "execution_count": null,
   "metadata": {
    "execution": {
     "iopub.execute_input": "2021-06-10T11:54:54.118929Z",
     "iopub.status.busy": "2021-06-10T11:54:54.118553Z",
     "iopub.status.idle": "2021-06-10T11:54:54.129603Z",
     "shell.execute_reply": "2021-06-10T11:54:54.128766Z",
     "shell.execute_reply.started": "2021-06-10T11:54:54.118888Z"
    }
   },
   "outputs": [],
   "source": [
    "x = train_test_df.drop(['Ge_v', 'Pregnancies'], axis=1)\n",
    "y = train_test_df['Pregnancies']\n",
    "\n",
    "x_train, x_test, y_train, y_test = train_test_split(x, y, test_size=0.25, random_state=42)"
   ]
  },
  {
   "cell_type": "code",
   "execution_count": null,
   "metadata": {
    "execution": {
     "iopub.execute_input": "2021-06-10T11:54:54.131425Z",
     "iopub.status.busy": "2021-06-10T11:54:54.131054Z",
     "iopub.status.idle": "2021-06-10T11:54:54.150460Z",
     "shell.execute_reply": "2021-06-10T11:54:54.149612Z",
     "shell.execute_reply.started": "2021-06-10T11:54:54.131385Z"
    }
   },
   "outputs": [],
   "source": [
    "knn = KNeighborsClassifier(n_neighbors=3)\n",
    "knn.fit(x_train, y_train)\n",
    "knn.score(x_test, y_test)"
   ]
  },
  {
   "cell_type": "code",
   "execution_count": null,
   "metadata": {
    "execution": {
     "iopub.execute_input": "2021-06-10T11:54:54.151843Z",
     "iopub.status.busy": "2021-06-10T11:54:54.151491Z",
     "iopub.status.idle": "2021-06-10T11:54:54.157010Z",
     "shell.execute_reply": "2021-06-10T11:54:54.156108Z",
     "shell.execute_reply.started": "2021-06-10T11:54:54.151812Z"
    }
   },
   "outputs": [],
   "source": [
    "target_x = target_df.drop(['Ge_v', 'Pregnancies'], axis=1)"
   ]
  },
  {
   "cell_type": "code",
   "execution_count": null,
   "metadata": {
    "execution": {
     "iopub.execute_input": "2021-06-10T11:54:54.158733Z",
     "iopub.status.busy": "2021-06-10T11:54:54.158299Z",
     "iopub.status.idle": "2021-06-10T11:54:54.201237Z",
     "shell.execute_reply": "2021-06-10T11:54:54.200209Z",
     "shell.execute_reply.started": "2021-06-10T11:54:54.158701Z"
    }
   },
   "outputs": [],
   "source": [
    "for i, x in zip(list(target_df.index.values), knn.predict(target_x)):\n",
    "    df_v.loc[i, 'Pregnancies'] = x\n",
    "df_v"
   ]
  },
  {
   "cell_type": "code",
   "execution_count": null,
   "metadata": {
    "execution": {
     "iopub.execute_input": "2021-06-10T11:54:54.202689Z",
     "iopub.status.busy": "2021-06-10T11:54:54.202408Z",
     "iopub.status.idle": "2021-06-10T11:54:54.207243Z",
     "shell.execute_reply": "2021-06-10T11:54:54.206656Z",
     "shell.execute_reply.started": "2021-06-10T11:54:54.202661Z"
    }
   },
   "outputs": [],
   "source": [
    "df_v['Sleep'].unique()"
   ]
  },
  {
   "cell_type": "code",
   "execution_count": null,
   "metadata": {
    "execution": {
     "iopub.execute_input": "2021-06-10T11:54:54.208420Z",
     "iopub.status.busy": "2021-06-10T11:54:54.208091Z",
     "iopub.status.idle": "2021-06-10T11:54:54.232424Z",
     "shell.execute_reply": "2021-06-10T11:54:54.231396Z",
     "shell.execute_reply.started": "2021-06-10T11:54:54.208395Z"
    }
   },
   "outputs": [],
   "source": [
    "df_v.info()"
   ]
  },
  {
   "cell_type": "code",
   "execution_count": null,
   "metadata": {
    "execution": {
     "iopub.execute_input": "2021-06-10T11:54:54.234367Z",
     "iopub.status.busy": "2021-06-10T11:54:54.233804Z",
     "iopub.status.idle": "2021-06-10T11:54:54.657661Z",
     "shell.execute_reply": "2021-06-10T11:54:54.656695Z",
     "shell.execute_reply.started": "2021-06-10T11:54:54.234322Z"
    }
   },
   "outputs": [],
   "source": [
    "sns.heatmap(df_v.corr())"
   ]
  },
  {
   "cell_type": "code",
   "execution_count": null,
   "metadata": {
    "execution": {
     "iopub.execute_input": "2021-06-10T11:54:54.659563Z",
     "iopub.status.busy": "2021-06-10T11:54:54.659170Z",
     "iopub.status.idle": "2021-06-10T11:54:54.669220Z",
     "shell.execute_reply": "2021-06-10T11:54:54.668131Z",
     "shell.execute_reply.started": "2021-06-10T11:54:54.659520Z"
    }
   },
   "outputs": [],
   "source": [
    "x = df_v.drop('Di_v', axis=1)\n",
    "y = df_v['Di_v']\n",
    "\n",
    "x_train, x_test, y_train, y_test = train_test_split(x, y, test_size=0.2, random_state=42)"
   ]
  },
  {
   "cell_type": "code",
   "execution_count": null,
   "metadata": {
    "execution": {
     "iopub.execute_input": "2021-06-10T11:54:54.671016Z",
     "iopub.status.busy": "2021-06-10T11:54:54.670655Z",
     "iopub.status.idle": "2021-06-10T11:54:54.707866Z",
     "shell.execute_reply": "2021-06-10T11:54:54.706853Z",
     "shell.execute_reply.started": "2021-06-10T11:54:54.670956Z"
    }
   },
   "outputs": [],
   "source": [
    "knn = KNeighborsClassifier(n_neighbors=3)\n",
    "knn.fit(x_train, y_train)\n",
    "knn.score(x_test, y_test)"
   ]
  },
  {
   "cell_type": "code",
   "execution_count": null,
   "metadata": {
    "execution": {
     "iopub.execute_input": "2021-06-10T11:54:54.712193Z",
     "iopub.status.busy": "2021-06-10T11:54:54.711493Z",
     "iopub.status.idle": "2021-06-10T11:54:54.825583Z",
     "shell.execute_reply": "2021-06-10T11:54:54.824619Z",
     "shell.execute_reply.started": "2021-06-10T11:54:54.712143Z"
    }
   },
   "outputs": [],
   "source": [
    "log = LogisticRegression(max_iter=200)\n",
    "log.fit(x_train, y_train)\n",
    "log.score(x_test, y_test)"
   ]
  },
  {
   "cell_type": "code",
   "execution_count": null,
   "metadata": {
    "execution": {
     "iopub.execute_input": "2021-06-10T11:54:54.828122Z",
     "iopub.status.busy": "2021-06-10T11:54:54.827371Z",
     "iopub.status.idle": "2021-06-10T11:54:54.856743Z",
     "shell.execute_reply": "2021-06-10T11:54:54.855545Z",
     "shell.execute_reply.started": "2021-06-10T11:54:54.828070Z"
    }
   },
   "outputs": [],
   "source": [
    "lin = LinearRegression()\n",
    "lin.fit(x_train, y_train)\n",
    "lin.score(x_test, y_test)"
   ]
  },
  {
   "cell_type": "code",
   "execution_count": null,
   "metadata": {
    "execution": {
     "iopub.execute_input": "2021-06-10T11:54:54.859722Z",
     "iopub.status.busy": "2021-06-10T11:54:54.859017Z",
     "iopub.status.idle": "2021-06-10T11:54:54.869608Z",
     "shell.execute_reply": "2021-06-10T11:54:54.868324Z",
     "shell.execute_reply.started": "2021-06-10T11:54:54.859675Z"
    }
   },
   "outputs": [],
   "source": [
    "for col, val in zip(x.columns, lin.coef_):\n",
    "    print(col + ' : ' + str(val))"
   ]
  },
  {
   "cell_type": "code",
   "execution_count": null,
   "metadata": {
    "execution": {
     "iopub.execute_input": "2021-06-10T11:54:54.872560Z",
     "iopub.status.busy": "2021-06-10T11:54:54.871593Z",
     "iopub.status.idle": "2021-06-10T11:54:55.286625Z",
     "shell.execute_reply": "2021-06-10T11:54:55.286026Z",
     "shell.execute_reply.started": "2021-06-10T11:54:54.872509Z"
    }
   },
   "outputs": [],
   "source": [
    "sns.catplot(x='BPLevel', hue='Diabetic', col=\"RegularMedicine\", data=df, kind='count')"
   ]
  },
  {
   "cell_type": "code",
   "execution_count": null,
   "metadata": {
    "execution": {
     "iopub.execute_input": "2021-06-10T12:12:00.640027Z",
     "iopub.status.busy": "2021-06-10T12:12:00.639665Z",
     "iopub.status.idle": "2021-06-10T12:12:00.730370Z",
     "shell.execute_reply": "2021-06-10T12:12:00.729056Z",
     "shell.execute_reply.started": "2021-06-10T12:12:00.639972Z"
    }
   },
   "outputs": [],
   "source": [
    "path = 'lib/Classifier.pkl'\n",
    "\n",
    "with open(path, 'wb') as f:\n",
    "    pickle.dump(knn, f)\n",
    "    print(\"Pickled vectorizer at {}\".format(path))"
   ]
  }
 ],
 "metadata": {
  "kernelspec": {
   "display_name": "Python 3",
   "language": "python",
   "name": "python3"
  },
  "language_info": {
   "codemirror_mode": {
    "name": "ipython",
    "version": 3
   },
   "file_extension": ".py",
   "mimetype": "text/x-python",
   "name": "python",
   "nbconvert_exporter": "python",
   "pygments_lexer": "ipython3",
   "version": "3.7.6"
  }
 },
 "nbformat": 4,
 "nbformat_minor": 4
}
